{
 "cells": [
  {
   "cell_type": "code",
   "execution_count": 12,
   "id": "5d377f81-b4bc-4937-b2c5-9b35ecb5ad87",
   "metadata": {},
   "outputs": [],
   "source": [
    "from ouster import client, viz\n",
    "import os\n",
    "import skimage.io as io\n",
    "#import open3d as o3d\n",
    "import numpy as np\n",
    "#import matplotlib.pyplot as plt"
   ]
  },
  {
   "cell_type": "code",
   "execution_count": 13,
   "id": "e9f71141-2775-4e4e-b095-669bcf1c7ced",
   "metadata": {},
   "outputs": [],
   "source": [
    "metadata_path = os.path.join('include', 'metadata.json')\n",
    "image_path = os.path.join('images', 'train', 'image_100.png')"
   ]
  },
  {
   "cell_type": "code",
   "execution_count": 14,
   "id": "f9c31c82-6dca-48e0-9998-9a04760fa964",
   "metadata": {
    "scrolled": true
   },
   "outputs": [],
   "source": [
    "with open(metadata_path, 'r') as f:\n",
    "    metadata = client.SensorInfo(f.read())"
   ]
  },
  {
   "cell_type": "code",
   "execution_count": 15,
   "id": "db779fee-811c-4ca5-b494-8e81de5d9a91",
   "metadata": {},
   "outputs": [],
   "source": [
    "xyzlut = client.XYZLut(metadata)"
   ]
  },
  {
   "cell_type": "code",
   "execution_count": 24,
   "id": "8c2b8c6f-e468-400f-bd6d-a08b1a9d2023",
   "metadata": {},
   "outputs": [
    {
     "data": {
      "image/png": "[encoded data removed]",
      "text/plain": [
       "<Figure size 432x288 with 1 Axes>"
      ]
     },
     "metadata": {
      "needs_background": "light"
     },
     "output_type": "display_data"
    }
   ],
   "source": [
    "image = io.imread(image_path)\n",
    "io.imshow((255 - image[:,:,3]))\n",
    "range = (255 - image[:,:,3])*2**10"
   ]
  },
  {
   "cell_type": "code",
   "execution_count": 28,
   "id": "d25c5058-6ff9-4506-9219-c5907bb8855a",
   "metadata": {},
   "outputs": [],
   "source": [
    "#destag_range = ouster.client.destagger(metadata, range, True)\n",
    "#io.imshow(destag_range)"
   ]
  },
  {
   "cell_type": "code",
   "execution_count": 16,
   "id": "8f37d77e-89c1-4209-9ee8-02afdc7b5a7d",
   "metadata": {},
   "outputs": [],
   "source": [
    "xyz = xyzlut(range)"
   ]
  },
  {
   "cell_type": "code",
   "execution_count": 17,
   "id": "f20b82c2-11a8-4cf1-9a49-b9e85b9c421e",
   "metadata": {},
   "outputs": [],
   "source": [
    "point_viz = viz.PointViz(\"Example Viz\")\n",
    "viz.add_default_controls(point_viz)"
   ]
  },
  {
   "cell_type": "code",
   "execution_count": 19,
   "id": "245ae468-cf8b-450c-921a-26f6b71e5cf3",
   "metadata": {},
   "outputs": [],
   "source": [
    "cloud_xyz = viz.Cloud(xyz.shape[0] * xyz.shape[1])\n",
    "cloud_xyz.set_xyz(np.reshape(xyz, (-1, 3)))\n",
    "#cloud_xyz.set_key(signal.ravel())\n",
    "point_viz.add(cloud_xyz)"
   ]
  },
  {
   "cell_type": "code",
   "execution_count": 22,
   "id": "192dec94-2fc5-4775-b586-6c2ce9f23054",
   "metadata": {},
   "outputs": [
    {
     "data": {
      "text/plain": [
       "True"
      ]
     },
     "execution_count": 22,
     "metadata": {},
     "output_type": "execute_result"
    }
   ],
   "source": [
    "point_viz.update()"
   ]
  },
  {
   "cell_type": "code",
   "execution_count": 23,
   "id": "f621fa01-b301-4cf6-b873-e008e616cc94",
   "metadata": {},
   "outputs": [
    {
     "ename": "KeyboardInterrupt",
     "evalue": "",
     "output_type": "error",
     "traceback": [
      "\u001b[0;31m---------------------------------------------------------------------------\u001b[0m",
      "\u001b[0;31mKeyboardInterrupt\u001b[0m                         Traceback (most recent call last)",
      "Cell \u001b[0;32mIn[23], line 1\u001b[0m\n\u001b[0;32m----> 1\u001b[0m \u001b[43mpoint_viz\u001b[49m\u001b[38;5;241;43m.\u001b[39;49m\u001b[43mrun\u001b[49m\u001b[43m(\u001b[49m\u001b[43m)\u001b[49m\n",
      "\u001b[0;31mKeyboardInterrupt\u001b[0m: "
     ]
    }
   ],
   "source": [
    "point_viz.run()"
   ]
  },
  {
   "cell_type": "code",
   "execution_count": null,
   "id": "45da0f4b-4e5e-4faa-b4fb-702b6511e5d4",
   "metadata": {},
   "outputs": [],
   "source": [
    "pcl::PointCloud<pcl::PointXYZ>::Ptr getXYZFromRangeImage(const sensor_msgs::ImageConstPtr& range_image_msg,\n",
    "                                                         const std_msgs::StringConstPtr& metadata_msg)\n",
    "{\n",
    "  const auto cv_ptr = cv_bridge::toCvCopy(range_image_msg, sensor_msgs::image_encodings::MONO16);\n",
    "  Eigen::MatrixXd eigen_image;\n",
    "  cv::cv2eigen(cv_ptr->image, eigen_image);\n",
    "  const Eigen::Ref<const Eigen::Array<uint32_t, -1, -1, Eigen::RowMajor>> range_image =\n",
    "      eigen_image.cast<uint32_t>() * 4;\n",
    "\n",
    "  const auto metadata = ouster::sensor::parse_metadata(metadata_msg->data);\n",
    "  const auto lut =\n",
    "      ouster::make_xyz_lut(metadata.format.columns_per_frame,\n",
    "                           metadata.format.pixels_per_column, ouster::sensor::range_unit,\n",
    "                           metadata.beam_to_lidar_transform, metadata.lidar_to_sensor_transform,\n",
    "                           metadata.beam_azimuth_angles, metadata.beam_altitude_angles);\n",
    "\n",
    "  const Eigen::ArrayX3f lut_direction = lut.direction.cast<float>();\n",
    "  const Eigen::ArrayX3f lut_offset = lut.offset.cast<float>();\n",
    "\n",
    "  const auto range_image_staggered =\n",
    "      ouster::stagger(range_image, metadata.format.pixel_shift_by_row);\n",
    "  Eigen::ArrayX3f cloud(lut_direction.rows(), 3);\n",
    "  ouster::cartesianT(cloud, range_image_staggered, lut_direction, lut_offset);\n",
    "\n",
    "  pcl::PointCloud<pcl::PointXYZ>::Ptr pointcloud(new pcl::PointCloud<pcl::PointXYZ>);\n",
    "  pointcloud->header.frame_id = range_image_msg->header.frame_id;\n",
    "  pointcloud->header.stamp = range_image_msg->header.stamp.toNSec() / 1000ull;\n",
    "  pointcloud->height = range_image_msg->height;\n",
    "  pointcloud->width = range_image_msg->width;\n",
    "  pointcloud->is_dense = false;\n",
    "  pointcloud->points.resize(pointcloud->width * pointcloud->height);\n",
    "  for (size_t i = 0; i < pointcloud->points.size(); ++i)\n",
    "  {\n",
    "    pointcloud->points[i].x = cloud(i, 0);\n",
    "    pointcloud->points[i].y = cloud(i, 1);\n",
    "    pointcloud->points[i].z = cloud(i, 2);\n",
    "  }\n",
    "  return pointcloud;\n",
    "}"
   ]
  }
 ],
 "metadata": {
  "kernelspec": {
   "display_name": "Python 3",
   "language": "python",
   "name": "python3"
  },
  "language_info": {
   "codemirror_mode": {
    "name": "ipython",
    "version": 3
   },
   "file_extension": ".py",
   "mimetype": "text/x-python",
   "name": "python",
   "nbconvert_exporter": "python",
   "pygments_lexer": "ipython3",
   "version": "3.8.18"
  }
 },
 "nbformat": 4,
 "nbformat_minor": 5
}
