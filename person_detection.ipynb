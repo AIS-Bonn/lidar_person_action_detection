{
 "cells": [
  {
   "cell_type": "markdown",
   "id": "62773f60-7ce7-4bc7-b850-677e156b2d43",
   "metadata": {},
   "source": [
    "# Person Detection"
   ]
  },
  {
   "cell_type": "code",
   "execution_count": 1,
   "id": "c97bedf3-8fbf-4a7f-bd66-45f0ac8c6e1e",
   "metadata": {
    "scrolled": true
   },
   "outputs": [
    {
     "name": "stdout",
     "output_type": "stream",
     "text": []
    },
    {
     "name": "stdout",
     "output_type": "stream",
     "text": [
      " 100% |█████████████████| 233/233 [1.0s elapsed, 0s remaining, 231.4 samples/s]         \n",
      " 100% |███████████████████| 51/51 [280.8ms elapsed, 0s remaining, 182.9 samples/s]      \n",
      " 100% |███████████████████| 50/50 [253.4ms elapsed, 0s remaining, 199.0 samples/s] \n",
      "Found train dataset labels:\n",
      "['sitting', 'walking', 'waving']\n",
      "Found test dataset labels:\n",
      "['sitting', 'walking', 'waving']\n",
      "Found valid dataset labels:\n",
      "['sitting', 'walking', 'waving']\n",
      " 100% |███████████████████| 74/74 [271.0ms elapsed, 0s remaining, 275.2 samples/s]      \n",
      " 100% |███████████████████| 17/17 [90.3ms elapsed, 0s remaining, 188.3 samples/s]     \n",
      " 100% |███████████████████| 17/17 [98.8ms elapsed, 0s remaining, 172.1 samples/s]     \n",
      "Found difficult_train dataset labels:\n",
      "['sitting', 'walking', 'waving']\n",
      "Found difficult_test dataset labels:\n",
      "['sitting', 'walking', 'waving']\n",
      "Found difficult_valid dataset labels:\n",
      "['sitting', 'walking', 'waving']\n",
      "Label dictionary for complete dataset\n",
      "{'person': 0}\n"
     ]
    }
   ],
   "source": [
    "experiment_name = 'person_detection'\n",
    "\n",
    "import os\n",
    "from detectron2.utils.logger import setup_logger\n",
    "setup_logger()\n",
    "\n",
    "from helpers.init import initialization\n",
    "\n",
    "cfg, classes, labels_dict, \\\n",
    "train_dataset_combined, test_dataset_combined, valid_dataset_combined = initialization(merge_to_one_class = True, encoding = True)\n",
    "\n",
    "### Training of the neural network ###\n",
    "\n",
    "cfg.MODEL.WEIGHTS = \"include/maskdino_swinl_50ep_300q_hid2048_3sd1_instance_maskenhanced_mask52.3ap_box59.0ap.pth\" \n",
    "\n",
    "cfg.SOLVER.BACKBONE_MULTIPLIER = 1e-5\n",
    "\n",
    "cfg.SOLVER.IMS_PER_BATCH = 2 # batch size\n",
    "cfg.DATALOADER.NUM_WORKERS = 2\n",
    "cfg.DATALOADER.PREFETCH_FACTOR = 2\n",
    "\n",
    "\n",
    "cfg.SOLVER.BASE_LR = 1e-4\n",
    "cfg.SOLVER.MAX_ITER = 5000 \n",
    "cfg.SOLVER.STEPS = ([4000]) # when to decay learning rate\n",
    "\n",
    "cfg.SOLVER.CHECKPOINT_PERIOD = 500\n",
    "cfg.TEST.EVAL_PERIOD = 500\n",
    "\n",
    "dir_list = os.listdir('output')\n",
    "if '.ipynb_checkpoints' in dir_list:\n",
    "        dir_list.remove('.ipynb_checkpoints')\n",
    "\n",
    "cfg.OUTPUT_DIR = os.path.join('output', f'{len(dir_list)}')"
   ]
  },
  {
   "cell_type": "markdown",
   "id": "5a520051-85b6-4bb9-9319-d084373ddcf6",
   "metadata": {},
   "source": [
    "## Training model"
   ]
  },
  {
   "cell_type": "code",
   "execution_count": null,
   "id": "2ec905be-ef23-4a77-b59f-34aadba40905",
   "metadata": {
    "scrolled": true,
    "tags": []
   },
   "outputs": [],
   "source": [
    "import logging\n",
    "import json\n",
    "\n",
    "# setup and launch the trainer\n",
    "from helpers.model_trainer import Trainer\n",
    "import warnings\n",
    "warnings.filterwarnings(\"ignore\", category=RuntimeWarning) \n",
    "\n",
    "os.makedirs(cfg.OUTPUT_DIR)\n",
    "\n",
    "# dump labels for deployment\n",
    "with open(os.path.join(cfg.OUTPUT_DIR, \"classes.json\"), \"w\") as fp:\n",
    "    json.dump(classes, fp)\n",
    "\n",
    "TRAIN = True\n",
    "if TRAIN:\n",
    "    trainer = Trainer(cfg, freeze=True, MaskDINO_weights=True)\n",
    "    trainer.train()"
   ]
  },
  {
   "cell_type": "markdown",
   "id": "3e1b0437-90c8-4e2b-bec7-025f3faebb6c",
   "metadata": {},
   "source": [
    "## Loading model"
   ]
  },
  {
   "cell_type": "code",
   "execution_count": 3,
   "id": "87ce42a7-70bd-4917-a954-13d1796f5784",
   "metadata": {
    "scrolled": true
   },
   "outputs": [
    {
     "name": "stdout",
     "output_type": "stream",
     "text": [
      "criterion.weight_dict  {'loss_ce': 4.0, 'loss_mask': 5.0, 'loss_dice': 5.0, 'loss_bbox': 5.0, 'loss_giou': 2.0, 'loss_ce_interm': 4.0, 'loss_mask_interm': 5.0, 'loss_dice_interm': 5.0, 'loss_bbox_interm': 5.0, 'loss_giou_interm': 2.0, 'loss_ce_dn': 4.0, 'loss_mask_dn': 5.0, 'loss_dice_dn': 5.0, 'loss_bbox_dn': 5.0, 'loss_giou_dn': 2.0, 'loss_ce_interm_dn': 4.0, 'loss_mask_interm_dn': 5.0, 'loss_dice_interm_dn': 5.0, 'loss_bbox_interm_dn': 5.0, 'loss_giou_interm_dn': 2.0, 'loss_ce_0': 4.0, 'loss_mask_0': 5.0, 'loss_dice_0': 5.0, 'loss_bbox_0': 5.0, 'loss_giou_0': 2.0, 'loss_ce_interm_0': 4.0, 'loss_mask_interm_0': 5.0, 'loss_dice_interm_0': 5.0, 'loss_bbox_interm_0': 5.0, 'loss_giou_interm_0': 2.0, 'loss_ce_dn_0': 4.0, 'loss_mask_dn_0': 5.0, 'loss_dice_dn_0': 5.0, 'loss_bbox_dn_0': 5.0, 'loss_giou_dn_0': 2.0, 'loss_ce_interm_dn_0': 4.0, 'loss_mask_interm_dn_0': 5.0, 'loss_dice_interm_dn_0': 5.0, 'loss_bbox_interm_dn_0': 5.0, 'loss_giou_interm_dn_0': 2.0, 'loss_ce_1': 4.0, 'loss_mask_1': 5.0, 'loss_dice_1': 5.0, 'loss_bbox_1': 5.0, 'loss_giou_1': 2.0, 'loss_ce_interm_1': 4.0, 'loss_mask_interm_1': 5.0, 'loss_dice_interm_1': 5.0, 'loss_bbox_interm_1': 5.0, 'loss_giou_interm_1': 2.0, 'loss_ce_dn_1': 4.0, 'loss_mask_dn_1': 5.0, 'loss_dice_dn_1': 5.0, 'loss_bbox_dn_1': 5.0, 'loss_giou_dn_1': 2.0, 'loss_ce_interm_dn_1': 4.0, 'loss_mask_interm_dn_1': 5.0, 'loss_dice_interm_dn_1': 5.0, 'loss_bbox_interm_dn_1': 5.0, 'loss_giou_interm_dn_1': 2.0, 'loss_ce_2': 4.0, 'loss_mask_2': 5.0, 'loss_dice_2': 5.0, 'loss_bbox_2': 5.0, 'loss_giou_2': 2.0, 'loss_ce_interm_2': 4.0, 'loss_mask_interm_2': 5.0, 'loss_dice_interm_2': 5.0, 'loss_bbox_interm_2': 5.0, 'loss_giou_interm_2': 2.0, 'loss_ce_dn_2': 4.0, 'loss_mask_dn_2': 5.0, 'loss_dice_dn_2': 5.0, 'loss_bbox_dn_2': 5.0, 'loss_giou_dn_2': 2.0, 'loss_ce_interm_dn_2': 4.0, 'loss_mask_interm_dn_2': 5.0, 'loss_dice_interm_dn_2': 5.0, 'loss_bbox_interm_dn_2': 5.0, 'loss_giou_interm_dn_2': 2.0, 'loss_ce_3': 4.0, 'loss_mask_3': 5.0, 'loss_dice_3': 5.0, 'loss_bbox_3': 5.0, 'loss_giou_3': 2.0, 'loss_ce_interm_3': 4.0, 'loss_mask_interm_3': 5.0, 'loss_dice_interm_3': 5.0, 'loss_bbox_interm_3': 5.0, 'loss_giou_interm_3': 2.0, 'loss_ce_dn_3': 4.0, 'loss_mask_dn_3': 5.0, 'loss_dice_dn_3': 5.0, 'loss_bbox_dn_3': 5.0, 'loss_giou_dn_3': 2.0, 'loss_ce_interm_dn_3': 4.0, 'loss_mask_interm_dn_3': 5.0, 'loss_dice_interm_dn_3': 5.0, 'loss_bbox_interm_dn_3': 5.0, 'loss_giou_interm_dn_3': 2.0, 'loss_ce_4': 4.0, 'loss_mask_4': 5.0, 'loss_dice_4': 5.0, 'loss_bbox_4': 5.0, 'loss_giou_4': 2.0, 'loss_ce_interm_4': 4.0, 'loss_mask_interm_4': 5.0, 'loss_dice_interm_4': 5.0, 'loss_bbox_interm_4': 5.0, 'loss_giou_interm_4': 2.0, 'loss_ce_dn_4': 4.0, 'loss_mask_dn_4': 5.0, 'loss_dice_dn_4': 5.0, 'loss_bbox_dn_4': 5.0, 'loss_giou_dn_4': 2.0, 'loss_ce_interm_dn_4': 4.0, 'loss_mask_interm_dn_4': 5.0, 'loss_dice_interm_dn_4': 5.0, 'loss_bbox_interm_dn_4': 5.0, 'loss_giou_interm_dn_4': 2.0, 'loss_ce_5': 4.0, 'loss_mask_5': 5.0, 'loss_dice_5': 5.0, 'loss_bbox_5': 5.0, 'loss_giou_5': 2.0, 'loss_ce_interm_5': 4.0, 'loss_mask_interm_5': 5.0, 'loss_dice_interm_5': 5.0, 'loss_bbox_interm_5': 5.0, 'loss_giou_interm_5': 2.0, 'loss_ce_dn_5': 4.0, 'loss_mask_dn_5': 5.0, 'loss_dice_dn_5': 5.0, 'loss_bbox_dn_5': 5.0, 'loss_giou_dn_5': 2.0, 'loss_ce_interm_dn_5': 4.0, 'loss_mask_interm_dn_5': 5.0, 'loss_dice_interm_dn_5': 5.0, 'loss_bbox_interm_dn_5': 5.0, 'loss_giou_interm_dn_5': 2.0, 'loss_ce_6': 4.0, 'loss_mask_6': 5.0, 'loss_dice_6': 5.0, 'loss_bbox_6': 5.0, 'loss_giou_6': 2.0, 'loss_ce_interm_6': 4.0, 'loss_mask_interm_6': 5.0, 'loss_dice_interm_6': 5.0, 'loss_bbox_interm_6': 5.0, 'loss_giou_interm_6': 2.0, 'loss_ce_dn_6': 4.0, 'loss_mask_dn_6': 5.0, 'loss_dice_dn_6': 5.0, 'loss_bbox_dn_6': 5.0, 'loss_giou_dn_6': 2.0, 'loss_ce_interm_dn_6': 4.0, 'loss_mask_interm_dn_6': 5.0, 'loss_dice_interm_dn_6': 5.0, 'loss_bbox_interm_dn_6': 5.0, 'loss_giou_interm_dn_6': 2.0, 'loss_ce_7': 4.0, 'loss_mask_7': 5.0, 'loss_dice_7': 5.0, 'loss_bbox_7': 5.0, 'loss_giou_7': 2.0, 'loss_ce_interm_7': 4.0, 'loss_mask_interm_7': 5.0, 'loss_dice_interm_7': 5.0, 'loss_bbox_interm_7': 5.0, 'loss_giou_interm_7': 2.0, 'loss_ce_dn_7': 4.0, 'loss_mask_dn_7': 5.0, 'loss_dice_dn_7': 5.0, 'loss_bbox_dn_7': 5.0, 'loss_giou_dn_7': 2.0, 'loss_ce_interm_dn_7': 4.0, 'loss_mask_interm_dn_7': 5.0, 'loss_dice_interm_dn_7': 5.0, 'loss_bbox_interm_dn_7': 5.0, 'loss_giou_interm_dn_7': 2.0, 'loss_ce_8': 4.0, 'loss_mask_8': 5.0, 'loss_dice_8': 5.0, 'loss_bbox_8': 5.0, 'loss_giou_8': 2.0, 'loss_ce_interm_8': 4.0, 'loss_mask_interm_8': 5.0, 'loss_dice_interm_8': 5.0, 'loss_bbox_interm_8': 5.0, 'loss_giou_interm_8': 2.0, 'loss_ce_dn_8': 4.0, 'loss_mask_dn_8': 5.0, 'loss_dice_dn_8': 5.0, 'loss_bbox_dn_8': 5.0, 'loss_giou_dn_8': 2.0, 'loss_ce_interm_dn_8': 4.0, 'loss_mask_interm_dn_8': 5.0, 'loss_dice_interm_dn_8': 5.0, 'loss_bbox_interm_dn_8': 5.0, 'loss_giou_interm_dn_8': 2.0}\n",
      "[03/14 18:01:32 d2.checkpoint.detection_checkpoint]: [DetectionCheckpointer] Loading from include/1_class_encoding_0.97.pth ...\n",
      "TEST DATASET\n",
      "\n",
      " 100% |███████████████████| 68/68 [383.1ms elapsed, 0s remaining, 177.5 samples/s]      \n",
      "Evaluating detections...\n",
      "  56% |██████████/--------| 38/68 [553.2ms elapsed, 436.8ms remaining, 68.7 samples/s] "
     ]
    },
    {
     "name": "stderr",
     "output_type": "stream",
     "text": [
      "/home/user/seliuninas0/anaconda3/envs/maskdino/lib/python3.8/site-packages/shapely/set_operations.py:133: RuntimeWarning: invalid value encountered in intersection\n",
      "  return lib.intersection(a, b, **kwargs)\n"
     ]
    },
    {
     "name": "stdout",
     "output_type": "stream",
     "text": [
      " 100% |███████████████████| 68/68 [1.0s elapsed, 0s remaining, 66.7 samples/s]         \n",
      "Performing IoU sweep...\n",
      " 100% |███████████████████| 68/68 [984.4ms elapsed, 0s remaining, 69.1 samples/s]      \n",
      "              precision    recall  f1-score   support\n",
      "\n",
      "      person       0.98      0.97      0.97        96\n",
      "\n",
      "   micro avg       0.98      0.97      0.97        96\n",
      "   macro avg       0.98      0.97      0.97        96\n",
      "weighted avg       0.98      0.97      0.97        96\n",
      "\n",
      "VALIDATION DATASET\n",
      "\n",
      "Directory 'output/test/inference' already exists; export will be merged with existing files\n",
      " 100% |███████████████████| 67/67 [407.3ms elapsed, 0s remaining, 164.5 samples/s]      \n",
      "Evaluating detections...\n",
      "  45% |████████|----------| 30/67 [445.8ms elapsed, 549.9ms remaining, 67.3 samples/s] "
     ]
    },
    {
     "name": "stderr",
     "output_type": "stream",
     "text": [
      "/home/user/seliuninas0/anaconda3/envs/maskdino/lib/python3.8/site-packages/shapely/set_operations.py:133: RuntimeWarning: invalid value encountered in intersection\n",
      "  return lib.intersection(a, b, **kwargs)\n"
     ]
    },
    {
     "name": "stdout",
     "output_type": "stream",
     "text": [
      " 100% |███████████████████| 67/67 [1.0s elapsed, 0s remaining, 62.5 samples/s]         \n",
      "Performing IoU sweep...\n",
      " 100% |███████████████████| 67/67 [902.5ms elapsed, 0s remaining, 74.2 samples/s]      \n",
      "              precision    recall  f1-score   support\n",
      "\n",
      "      person       0.95      0.93      0.94       100\n",
      "\n",
      "   micro avg       0.95      0.93      0.94       100\n",
      "   macro avg       0.95      0.93      0.94       100\n",
      "weighted avg       0.95      0.93      0.94       100\n",
      "\n",
      "TRAIN DATASET\n",
      "\n",
      "Directory 'output/test/inference' already exists; export will be merged with existing files\n",
      " 100% |█████████████████| 307/307 [2.0s elapsed, 0s remaining, 155.9 samples/s]      \n",
      "Evaluating detections...\n",
      "  47% |███████----------| 143/307 [1.9s elapsed, 2.3s remaining, 72.2 samples/s]    "
     ]
    },
    {
     "name": "stderr",
     "output_type": "stream",
     "text": [
      "/home/user/seliuninas0/anaconda3/envs/maskdino/lib/python3.8/site-packages/shapely/set_operations.py:133: RuntimeWarning: invalid value encountered in intersection\n",
      "  return lib.intersection(a, b, **kwargs)\n"
     ]
    },
    {
     "name": "stdout",
     "output_type": "stream",
     "text": [
      " 100% |█████████████████| 307/307 [4.6s elapsed, 0s remaining, 82.8 samples/s]      \n",
      "Performing IoU sweep...\n",
      " 100% |█████████████████| 307/307 [4.6s elapsed, 0s remaining, 77.9 samples/s]      \n",
      "              precision    recall  f1-score   support\n",
      "\n",
      "      person       0.97      0.98      0.97       437\n",
      "\n",
      "   micro avg       0.97      0.98      0.97       437\n",
      "   macro avg       0.97      0.98      0.97       437\n",
      "weighted avg       0.97      0.98      0.97       437\n",
      "\n"
     ]
    }
   ],
   "source": [
    "from helpers.benchmark import benchmark\n",
    "\n",
    "# if we just want to load the results of a previous model use that models experiment_name here\n",
    "# else leave model_name at None to use the most recently trained model\n",
    "\n",
    "model_name = None\n",
    "#model_name = 'model_0000499.pth'\n",
    "#cfg.OUTPUT_DIR = os.path.join('output', '4')\n",
    "\n",
    "weights_path = os.path.join(cfg.OUTPUT_DIR, \"model_final.pth\") if model_name is None else os.path.join(cfg.OUTPUT_DIR, model_name)\n",
    "best_weights_path = os.path.join('include', '1_class_encoding_0.97.pth')\n",
    "\n",
    "cfg.MODEL.WEIGHTS =  weights_path\n",
    "#cfg.MODEL.WEIGHTS =  best_weights_path\n",
    "\n",
    "# cfg.MODEL.ROI_HEADS.SCORE_THRESH_TEST = 0.1\n",
    "# cfg.MODEL.ROI_HEADS.NMS_THRESH_TEST = 0.8\n",
    "\n",
    "benchmark(cfg, classes, labels_dict, train_dataset_combined, test_dataset_combined, valid_dataset_combined, save = True)"
   ]
  },
  {
   "cell_type": "code",
   "execution_count": 4,
   "id": "17a74b5f-3886-4683-8ebd-ccbb373c6c46",
   "metadata": {},
   "outputs": [
    {
     "data": {
      "text/html": [
       "\n",
       "        <iframe\n",
       "            width=\"100%\"\n",
       "            height=\"800\"\n",
       "            src=\"http://localhost:6006/?notebook=True&subscription=85ccdb7a-18e5-4e80-8dbe-c28c850375a7\"\n",
       "            frameborder=\"0\"\n",
       "            allowfullscreen\n",
       "            \n",
       "        ></iframe>\n",
       "        "
      ],
      "text/plain": [
       "<IPython.lib.display.IFrame at 0x7fbc87bfc850>"
      ]
     },
     "metadata": {},
     "output_type": "display_data"
    },
    {
     "name": "stdout",
     "output_type": "stream",
     "text": [
      "Notebook sessions cannot wait\n"
     ]
    }
   ],
   "source": [
    "# launch a fiftyone session to view the model predictions after training\n",
    "import fiftyone as fo\n",
    "session = fo.launch_app(train_dataset_combined, port = 6006)\n",
    "session.wait()"
   ]
  },
  {
   "cell_type": "code",
   "execution_count": 5,
   "id": "75586f1b-4948-4c29-8a36-3457e5d14155",
   "metadata": {},
   "outputs": [],
   "source": [
    "fo.close_app()"
   ]
  },
  {
   "cell_type": "code",
   "execution_count": null,
   "id": "fa904eb8-3006-41db-9cb6-51bac1d61ad7",
   "metadata": {},
   "outputs": [],
   "source": []
  }
 ],
 "metadata": {
  "kernelspec": {
   "display_name": "Python 3",
   "language": "python",
   "name": "python3"
  },
  "language_info": {
   "codemirror_mode": {
    "name": "ipython",
    "version": 3
   },
   "file_extension": ".py",
   "mimetype": "text/x-python",
   "name": "python",
   "nbconvert_exporter": "python",
   "pygments_lexer": "ipython3",
   "version": "3.8.18"
  }
 },
 "nbformat": 4,
 "nbformat_minor": 5
}
